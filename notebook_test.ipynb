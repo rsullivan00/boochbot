{
 "cells": [
  {
   "cell_type": "code",
   "execution_count": null,
   "metadata": {},
   "outputs": [],
   "source": [
    "import requests\n",
    "import os\n",
    "import shutil\n",
    "\n",
    "API_URL = 'https://www.googleapis.com/customsearch/v1'\n",
    "API_KEY = os.environ['GOOGLE_API_KEY']\n",
    "API_CX = os.environ['GOOGLE_API_CX']\n",
    "\n",
    "\n",
    "def request_images(start):\n",
    "    response = requests.get(API_URL,\n",
    "                            params={\n",
    "                                'key': API_KEY,\n",
    "                                'cx': API_CX,\n",
    "                                'q': 'moldy kombucha',\n",
    "                                'searchType': 'image',\n",
    "                                'start': start\n",
    "                            })\n",
    "    return response.json()\n",
    "\n",
    "\n",
    "def download_file(url, path):\n",
    "    with requests.get(url, stream=True) as r:\n",
    "        with open(path, 'wb') as f:\n",
    "            shutil.copyfileobj(r.raw, f)\n",
    "\n",
    "    return path\n",
    "\n",
    "\n",
    "start = 0\n",
    "image_count = 100\n",
    "while start < image_count:\n",
    "    body = request_images(start)\n",
    "    for i, item in enumerate(body['items']):\n",
    "        idx = start + i\n",
    "        download_file(item['image']['thumbnailLink'],\n",
    "                      'images/{}.jpg'.format(idx))\n",
    "\n",
    "    start = body['queries']['nextPage'][0]['startIndex']\n"
   ]
  }
 ],
 "metadata": {
  "language_info": {
   "codemirror_mode": {
    "name": "ipython",
    "version": 3
   },
   "file_extension": ".py",
   "mimetype": "text/x-python",
   "name": "python",
   "nbconvert_exporter": "python",
   "pygments_lexer": "ipython3",
   "version": 3
  },
  "orig_nbformat": 2
 },
 "nbformat": 4,
 "nbformat_minor": 2
}